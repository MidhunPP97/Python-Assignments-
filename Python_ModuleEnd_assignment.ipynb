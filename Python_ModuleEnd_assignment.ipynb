{
 "cells": [
  {
   "cell_type": "code",
   "execution_count": 1,
   "id": "35604345-c58e-4273-8e09-71937b65956f",
   "metadata": {},
   "outputs": [],
   "source": [
    "feedback_data = {\n",
    "'S_No': [1, 2, 3, 4, 5, 6, 7, 8, 9, 10],\n",
    "'Name': ['Ravi', 'Meera', 'Sam', 'Anu', 'Raj', 'Divya', 'Arjun', 'Kiran', 'Leela', 'Nisha'],\n",
    "'Feedback': [\n",
    "' Very GOOD Service!!!',\n",
    "'poor support, not happy ',\n",
    "'GREAT experience! will come again.',\n",
    "'okay okay...',\n",
    "' not BAD',\n",
    "'Excellent care, excellent staff!',\n",
    "'good food and good ambience!',\n",
    "'Poor response and poor handling of issue',\n",
    "'Satisfied. But could be better.',\n",
    "'Good support... quick service.'\n",
    "],\n",
    "'Rating': [5, 2, 5, 3, 2, 5, 4, 1, 3, 4]\n",
    "}"
   ]
  },
  {
   "cell_type": "code",
   "execution_count": 2,
   "id": "1880be8a-9c8f-4145-a386-ee2b3de25e57",
   "metadata": {},
   "outputs": [
    {
     "name": "stdin",
     "output_type": "stream",
     "text": [
      "\n",
      " Please Enter the number of feedback you want to add:  1\n",
      "\n",
      " Please Enter the Name:  Midhun\n",
      "\n",
      " Please Enter your Feedback:  Average\n",
      "\n",
      " Please enter your Rating in a Scale of 1-5:  3.5\n"
     ]
    },
    {
     "name": "stdout",
     "output_type": "stream",
     "text": [
      "\n",
      "\n",
      "slno Name    Feedback    Rating\n",
      "1    Ravi     Very GOOD Service!!!    5\n",
      "2    Meera    poor support, not happy     2\n",
      "3    Sam    GREAT experience! will come again.    5\n",
      "4    Anu    okay okay...    3\n",
      "5    Raj     not BAD    2\n",
      "6    Divya    Excellent care, excellent staff!    5\n",
      "7    Arjun    good food and good ambience!    4\n",
      "8    Kiran    Poor response and poor handling of issue    1\n",
      "9    Leela    Satisfied. But could be better.    3\n",
      "10    Nisha    Good support... quick service.    4\n",
      "11    Midhun    Average    3.5\n"
     ]
    }
   ],
   "source": [
    "count=int(input(\"\\n Please Enter the number of feedback you want to add: \")) \n",
    "n=len(feedback_data['S_No'])+1\n",
    "for i in range(0,count):\n",
    "    name=input(\"\\n Please Enter the Name: \")\n",
    "    feedback=input(\"\\n Please Enter your Feedback: \")\n",
    "    rating=float(input(\"\\n Please enter your Rating in a Scale of 1-5: \"))\n",
    "    feedback_data['S_No'].append(n)\n",
    "    feedback_data['Name'].append(name)\n",
    "    feedback_data['Feedback'].append(feedback)\n",
    "    feedback_data['Rating'].append(rating)\n",
    "    n+=1\n",
    "print(\"\\n\\nslno Name    Feedback    Rating\")\n",
    "for i in range(len(feedback_data['S_No'])):\n",
    "    print(feedback_data['S_No'][i],\"  \",\n",
    "    feedback_data['Name'][i],\"  \",\n",
    "    feedback_data['Feedback'][i],\"  \",\n",
    "    feedback_data['Rating'][i],)     "
   ]
  },
  {
   "cell_type": "code",
   "execution_count": 3,
   "id": "8df6ea99-f49c-4298-8d5a-738ba50c2718",
   "metadata": {},
   "outputs": [
    {
     "name": "stdout",
     "output_type": "stream",
     "text": [
      "\n",
      "\n",
      " {'S_No': [1, 2, 3, 4, 5, 6, 7, 8, 9, 10, 11], 'Name': ['Ravi', 'Meera', 'Sam', 'Anu', 'Raj', 'Divya', 'Arjun', 'Kiran', 'Leela', 'Nisha', 'Midhun'], 'Feedback': ['very good service', 'poor support not happy', 'great experience will come again', 'okay okay', 'not bad', 'excellent care excellent staff', 'good food and good ambience', 'poor response and poor handling of issue', 'satisfied but could be better', 'good support quick service', 'average'], 'Rating': [5, 2, 5, 3, 2, 5, 4, 1, 3, 4, 3.5]} \n",
      "---------------------------------------------------------------------------------------------------------------------------------------------------------\n",
      "\n",
      "\n",
      "slno Name    Feedback    Rating\n",
      "1    Ravi    very good service    5\n",
      "2    Meera    poor support not happy    2\n",
      "3    Sam    great experience will come again    5\n",
      "4    Anu    okay okay    3\n",
      "5    Raj    not bad    2\n",
      "6    Divya    excellent care excellent staff    5\n",
      "7    Arjun    good food and good ambience    4\n",
      "8    Kiran    poor response and poor handling of issue    1\n",
      "9    Leela    satisfied but could be better    3\n",
      "10    Nisha    good support quick service    4\n",
      "11    Midhun    average    3.5\n",
      "\n",
      "---------------------------------------------------------------------------------------------------------------------------------------------------------\n"
     ]
    }
   ],
   "source": [
    "import re\n",
    "#p=['.', ',', '!', '?']\n",
    "updated=[]\n",
    "for i in feedback_data['Feedback']:\n",
    "    #for j in p:\n",
    "        #i=i.replace(j,'')\n",
    "    i=re.sub(r'[.\\,\\!\\?]','',i)\n",
    "    #i=' '.join(i.split())\n",
    "    i=i.strip().lower()    \n",
    "    updated.append(i)\n",
    "feedback_data['Feedback']=updated\n",
    "print(\"\\n\\n\",feedback_data,\"\\n---------------------------------------------------------------------------------------------------------------------------------------------------------\")\n",
    "print(\"\\n\\nslno Name    Feedback    Rating\")\n",
    "for i in range(len(feedback_data['S_No'])):\n",
    "    print(feedback_data['S_No'][i],\"  \",\n",
    "    feedback_data['Name'][i],\"  \",\n",
    "    feedback_data['Feedback'][i],\"  \",\n",
    "    feedback_data['Rating'][i])\n",
    "print(\"\\n---------------------------------------------------------------------------------------------------------------------------------------------------------\")    "
   ]
  },
  {
   "cell_type": "code",
   "execution_count": 11,
   "id": "ffaf98e9-8d6e-4d23-acb2-7a6982ee3139",
   "metadata": {},
   "outputs": [
    {
     "name": "stdout",
     "output_type": "stream",
     "text": [
      "\n",
      "Feedbacks containing good: 3\n",
      "\n",
      "Feedbacks containing poor: 2\n",
      "\n",
      "Feedbacks containing excellent: 1\n"
     ]
    }
   ],
   "source": [
    "def count_word_in_feedbacks(word):\n",
    "    count=0\n",
    "    word=word.lower()\n",
    "    for k in feedback_data['Feedback']:\n",
    "         if word in k.lower():\n",
    "            count += 1\n",
    "    return count\n",
    "print(\"\\nFeedbacks containing good:\", count_word_in_feedbacks(\"good\"))\n",
    "print(\"\\nFeedbacks containing poor:\", count_word_in_feedbacks(\"poor\"))\n",
    "print(\"\\nFeedbacks containing excellent:\", count_word_in_feedbacks(\"excellent\"))\n"
   ]
  },
  {
   "cell_type": "code",
   "execution_count": 14,
   "id": "4b97fdcb-662e-43c8-8eec-7f97ffca0b5d",
   "metadata": {},
   "outputs": [
    {
     "name": "stdout",
     "output_type": "stream",
     "text": [
      "\n",
      " The Average is:  3.25 \n",
      "---------------------------------------------------------------------------------------------------------------------------------------------------------\n",
      "\n",
      " The longest Feedback is:  poor response and poor handling of issue \n",
      "---------------------------------------------------------------------------------------------------------------------------------------------------------\n",
      "\n",
      " The Unique Words in feedback are:  {'poor', 'bad', 'service', 'food', 'but', 'staff', 'satisfied', 'will', 'good', 'support', 'excellent', 'great', 'response', 'could', 'issue', 'and', 'come', 'handling', 'again', 'quick', 'okay', 'care', 'be', 'average', 'very', 'experience', 'ambience', 'happy', 'not', 'better', 'of'} \n",
      "---------------------------------------------------------------------------------------------------------------------------------------------------------\n",
      "\n",
      " The sorted order of the unique words are:  ['again', 'ambience', 'and', 'average', 'bad', 'be', 'better', 'but', 'care', 'come', 'could', 'excellent', 'experience', 'food', 'good', 'great', 'handling', 'happy', 'issue', 'not', 'of', 'okay', 'poor', 'quick', 'response', 'satisfied', 'service', 'staff', 'support', 'very', 'will'] \n",
      "---------------------------------------------------------------------------------------------------------------------------------------------------------\n",
      "\n",
      " Thank You...\n",
      "---------------------------------------------------------------------------------------------------------------------------------------------------------\n"
     ]
    }
   ],
   "source": [
    "Average_rating=sum(feedback_data['Rating'])/len(feedback_data['Rating'])\n",
    "print(\"\\n The Average is: \", round(Average_rating,2),\"\\n---------------------------------------------------------------------------------------------------------------------------------------------------------\")\n",
    "x=0\n",
    "for c in feedback_data['Feedback']:\n",
    "    a=len(c)\n",
    "    if a>x:\n",
    "        x=a\n",
    "        longest=c\n",
    "print(\"\\n The longest Feedback is: \", longest,\"\\n---------------------------------------------------------------------------------------------------------------------------------------------------------\")\n",
    "unique=set()\n",
    "for k in feedback_data['Feedback']:\n",
    "    w=k.split()\n",
    "    unique.update(w)\n",
    "print(\"\\n The Unique Words in feedback are: \",unique,\"\\n---------------------------------------------------------------------------------------------------------------------------------------------------------\")\n",
    "print(\"\\n The sorted order of the unique words are: \",sorted(unique),\"\\n---------------------------------------------------------------------------------------------------------------------------------------------------------\")\n",
    "print(\"\\n Thank You...!\\n---------------------------------------------------------------------------------------------------------------------------------------------------------\")"
   ]
  },
  {
   "cell_type": "code",
   "execution_count": null,
   "id": "c7f54369-2b9e-449e-aea4-246a3eeeb1d9",
   "metadata": {},
   "outputs": [],
   "source": []
  }
 ],
 "metadata": {
  "kernelspec": {
   "display_name": "Python 3 (ipykernel)",
   "language": "python",
   "name": "python3"
  },
  "language_info": {
   "codemirror_mode": {
    "name": "ipython",
    "version": 3
   },
   "file_extension": ".py",
   "mimetype": "text/x-python",
   "name": "python",
   "nbconvert_exporter": "python",
   "pygments_lexer": "ipython3",
   "version": "3.13.5"
  }
 },
 "nbformat": 4,
 "nbformat_minor": 5
}
