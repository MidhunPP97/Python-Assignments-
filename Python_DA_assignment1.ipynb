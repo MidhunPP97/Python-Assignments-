{
 "cells": [
  {
   "cell_type": "code",
   "execution_count": 1,
   "id": "49cb4c5c-078c-4477-8125-bd0746f05902",
   "metadata": {},
   "outputs": [],
   "source": [
    "import numpy as np"
   ]
  },
  {
   "cell_type": "code",
   "execution_count": 35,
   "id": "0c67be69-1443-478d-98ce-9105d4065809",
   "metadata": {},
   "outputs": [],
   "source": [
    "temp1=[22.5, 25.3, 20.8, 23.4, 26.1, 24.8, 21.9]\n",
    "temperatures_w1 = np.array(temp1) #Create a 1D NumPy Array"
   ]
  },
  {
   "cell_type": "code",
   "execution_count": 82,
   "id": "c826d5ff-f3df-405d-b3df-95c264713373",
   "metadata": {},
   "outputs": [
    {
     "name": "stdout",
     "output_type": "stream",
     "text": [
      "\n",
      " The Array is :  [22.5 25.3 20.8 23.4 26.1 24.8 21.9]\n"
     ]
    }
   ],
   "source": [
    "print(\"\\n The Array is : \",temperatures_w1)"
   ]
  },
  {
   "cell_type": "code",
   "execution_count": 83,
   "id": "b85fe799-d682-49ab-9c6b-47826cacb4f9",
   "metadata": {},
   "outputs": [
    {
     "name": "stdout",
     "output_type": "stream",
     "text": [
      "\n",
      " The Shape of array is:  (7,)\n"
     ]
    }
   ],
   "source": [
    "print(\"\\n The Shape of array is: \",temperatures_w1.shape) #Inspection and Properties"
   ]
  },
  {
   "cell_type": "code",
   "execution_count": 79,
   "id": "4dee02f4-91d7-45ee-84de-361e0aa4e5b1",
   "metadata": {},
   "outputs": [
    {
     "name": "stdout",
     "output_type": "stream",
     "text": [
      "The type of array is :  float64\n"
     ]
    }
   ],
   "source": [
    "print(\"The type of array is : \",temperatures_w1.dtype)"
   ]
  },
  {
   "cell_type": "code",
   "execution_count": 85,
   "id": "cd5b5161-69e1-4b16-883d-eed8c33abd5d",
   "metadata": {},
   "outputs": [
    {
     "name": "stdout",
     "output_type": "stream",
     "text": [
      "\n",
      " The Size of array is:  7\n"
     ]
    }
   ],
   "source": [
    "print(\"\\n The Size of array is: \",temperatures_w1.size)"
   ]
  },
  {
   "cell_type": "code",
   "execution_count": 87,
   "id": "ef8b242c-9b5f-459c-9034-1a0d54fd5423",
   "metadata": {},
   "outputs": [
    {
     "name": "stdout",
     "output_type": "stream",
     "text": [
      "\n",
      " The Farhenheit value is :  [72.5  77.54 69.44 74.12 78.98 76.64 71.42]\n"
     ]
    }
   ],
   "source": [
    "converted=(temperatures_w1*(9/5))+32 #Array Operations\n",
    "print(\"\\n The Farhenheit value is : \",converted)"
   ]
  },
  {
   "cell_type": "code",
   "execution_count": 88,
   "id": "d0424719-fb68-409e-9a22-12212b80fc9e",
   "metadata": {},
   "outputs": [
    {
     "name": "stdout",
     "output_type": "stream",
     "text": [
      "\n",
      " The maximum Temperature is:  78.98\n"
     ]
    }
   ],
   "source": [
    "print(\"\\n The maximum Temperature is: \",np.max(converted))"
   ]
  },
  {
   "cell_type": "code",
   "execution_count": 89,
   "id": "aa94b90a-ca31-4281-8acd-26ba3c944f9a",
   "metadata": {},
   "outputs": [
    {
     "name": "stdout",
     "output_type": "stream",
     "text": [
      "The MInimum Temp is:  69.44\n"
     ]
    }
   ],
   "source": [
    "print(\"The MInimum Temp is: \",np.min(converted))"
   ]
  },
  {
   "cell_type": "code",
   "execution_count": 90,
   "id": "176ae0ab-5e07-4824-a821-0f4f4ab55598",
   "metadata": {},
   "outputs": [
    {
     "name": "stdout",
     "output_type": "stream",
     "text": [
      "The mean temp is:  74.37714285714286\n"
     ]
    }
   ],
   "source": [
    "print(\"The mean temp is: \",np.mean(converted))"
   ]
  },
  {
   "cell_type": "code",
   "execution_count": 91,
   "id": "cc621ed7-15b2-4985-a552-8612fd3943ab",
   "metadata": {},
   "outputs": [
    {
     "name": "stdout",
     "output_type": "stream",
     "text": [
      "The first 3 days Temperature is:  [22.5 25.3 20.8]\n"
     ]
    }
   ],
   "source": [
    "first_threedays=temperatures_w1[0:3] #Array Slicing and Indexing\n",
    "print(\"The first 3 days Temperature is: \",first_threedays)"
   ]
  },
  {
   "cell_type": "code",
   "execution_count": 92,
   "id": "1cc22186-7f26-4165-a222-30a29d9522d5",
   "metadata": {},
   "outputs": [
    {
     "name": "stdout",
     "output_type": "stream",
     "text": [
      "The Weekdays Temperature is:  [24.8 21.9]\n"
     ]
    }
   ],
   "source": [
    "weekend_days=temperatures_w1[-2:]\n",
    "print(\"The Weekdays Temperature is: \",weekend_days)"
   ]
  },
  {
   "cell_type": "code",
   "execution_count": 93,
   "id": "f1c767af-0936-46a9-932b-135655206b63",
   "metadata": {},
   "outputs": [
    {
     "name": "stdout",
     "output_type": "stream",
     "text": [
      "The Middle days Temperature is:  [20.8 23.4 26.1]\n"
     ]
    }
   ],
   "source": [
    "middle_days=temperatures_w1[2:5]\n",
    "print(\"The Middle days Temperature is: \",middle_days)"
   ]
  },
  {
   "cell_type": "code",
   "execution_count": 94,
   "id": "76968ea0-a447-43d8-897e-e6e8cfb82bd6",
   "metadata": {},
   "outputs": [
    {
     "name": "stdout",
     "output_type": "stream",
     "text": [
      "The 2nd week temperature is:  [19.2 22.5 21.3 24.  23.5 22.8 20.1]\n"
     ]
    }
   ],
   "source": [
    "temp2=[19.2, 22.5, 21.3, 24.0, 23.5, 22.8, 20.1] #Create a 2D Array\n",
    "temperatures_w2=np.array(temp2)\n",
    "print(\"The 2nd week temperature is: \",temperatures_w2)"
   ]
  },
  {
   "cell_type": "code",
   "execution_count": 95,
   "id": "6c1f1a02-41d9-4d13-bf12-d2808bf4c628",
   "metadata": {},
   "outputs": [
    {
     "name": "stdout",
     "output_type": "stream",
     "text": [
      "The final Temperature data is :  [[22.5 25.3 20.8 23.4 26.1 24.8 21.9]\n",
      " [19.2 22.5 21.3 24.  23.5 22.8 20.1]]\n"
     ]
    }
   ],
   "source": [
    "final_temp=np.array([temperatures_w1,temperatures_w2])\n",
    "print(\"The final Temperature data is : \",final_temp)"
   ]
  },
  {
   "cell_type": "code",
   "execution_count": 96,
   "id": "94a17bb2-fc6a-4501-bdb6-7f3fbde0fccf",
   "metadata": {},
   "outputs": [
    {
     "name": "stdout",
     "output_type": "stream",
     "text": [
      "The shape of final data is: (2, 7)\n"
     ]
    }
   ],
   "source": [
    "print(\"The shape of final data is:\", final_temp.shape) #Inspect and Slice the 2D Array"
   ]
  },
  {
   "cell_type": "code",
   "execution_count": 97,
   "id": "84b02979-e865-4a98-aa8e-231aa8af0e67",
   "metadata": {},
   "outputs": [
    {
     "name": "stdout",
     "output_type": "stream",
     "text": [
      "The Type of final data is : float64\n"
     ]
    }
   ],
   "source": [
    "print(\"The Type of final data is :\",final_temp.dtype)"
   ]
  },
  {
   "cell_type": "code",
   "execution_count": 98,
   "id": "9b3dd45f-0534-4165-bfd8-2be0207b430e",
   "metadata": {},
   "outputs": [
    {
     "name": "stdout",
     "output_type": "stream",
     "text": [
      "The Size of the Final data is:  14\n"
     ]
    }
   ],
   "source": [
    "print(\"The Size of the Final data is: \",final_temp.size)"
   ]
  },
  {
   "cell_type": "code",
   "execution_count": 99,
   "id": "9ebb74b6-3e83-4785-954b-ce8281bbd261",
   "metadata": {},
   "outputs": [
    {
     "name": "stdout",
     "output_type": "stream",
     "text": [
      "The 1st week data is:  [22.5 25.3 20.8 23.4 26.1 24.8 21.9]\n"
     ]
    }
   ],
   "source": [
    "print(\"The 1st week data is: \",final_temp[0])"
   ]
  },
  {
   "cell_type": "code",
   "execution_count": 100,
   "id": "991c345f-3da7-4c1d-afc1-653f5e75e60b",
   "metadata": {},
   "outputs": [
    {
     "name": "stdout",
     "output_type": "stream",
     "text": [
      "The 2nd week data is:  [19.2 22.5 21.3 24.  23.5 22.8 20.1]\n"
     ]
    }
   ],
   "source": [
    "print(\"The 2nd week data is: \",final_temp[1])"
   ]
  },
  {
   "cell_type": "code",
   "execution_count": 101,
   "id": "4c922672-d5f2-4896-89dc-4600227d0670",
   "metadata": {},
   "outputs": [
    {
     "name": "stdout",
     "output_type": "stream",
     "text": [
      "Weekend data of 1st week is:  [24.8 21.9]\n"
     ]
    }
   ],
   "source": [
    "print(\"Weekend data of 1st week is: \",final_temp[0,-2:])"
   ]
  },
  {
   "cell_type": "code",
   "execution_count": 102,
   "id": "39df3a9b-ec12-496a-9b0d-b309756591e1",
   "metadata": {},
   "outputs": [
    {
     "name": "stdout",
     "output_type": "stream",
     "text": [
      "Weekend data of 2nd week is:  [22.8 20.1]\n"
     ]
    }
   ],
   "source": [
    "print(\"Weekend data of 2nd week is: \",final_temp[1,-2:])"
   ]
  },
  {
   "cell_type": "code",
   "execution_count": 62,
   "id": "aca672d5-63e0-4b77-8228-be075240e07a",
   "metadata": {},
   "outputs": [],
   "source": [
    "import pandas as pd #Creating Pandas Series:"
   ]
  },
  {
   "cell_type": "code",
   "execution_count": 65,
   "id": "4f15362d-6542-448d-aa16-efe67cce082d",
   "metadata": {},
   "outputs": [],
   "source": [
    "marks=pd.Series([95, 92, 89, 85, 80],index=['Rank1', 'Rank2', 'Rank3', 'Rank4', 'Rank5'])"
   ]
  },
  {
   "cell_type": "code",
   "execution_count": 106,
   "id": "b5fbe310-eeca-452b-81be-4e139033dac6",
   "metadata": {},
   "outputs": [
    {
     "name": "stdout",
     "output_type": "stream",
     "text": [
      "The Marks data is:\n",
      " Rank1    95\n",
      "Rank2    92\n",
      "Rank3    89\n",
      "Rank4    85\n",
      "Rank5    80\n",
      "dtype: int64\n"
     ]
    }
   ],
   "source": [
    "print(\"The Marks data is:\\n\",marks);"
   ]
  },
  {
   "cell_type": "code",
   "execution_count": 107,
   "id": "f19b84dd-968c-4867-bc89-b544bdfeb53e",
   "metadata": {},
   "outputs": [
    {
     "name": "stdout",
     "output_type": "stream",
     "text": [
      "The first mark is:  95\n"
     ]
    },
    {
     "name": "stderr",
     "output_type": "stream",
     "text": [
      "C:\\Users\\midhu\\AppData\\Local\\Temp\\ipykernel_25612\\3058067549.py:1: FutureWarning: Series.__getitem__ treating keys as positions is deprecated. In a future version, integer keys will always be treated as labels (consistent with DataFrame behavior). To access a value by position, use `ser.iloc[pos]`\n",
      "  print(\"The first mark is: \",marks[0])\n"
     ]
    }
   ],
   "source": [
    "print(\"The first mark is: \",marks[0]) #Indexing and Slicing"
   ]
  },
  {
   "cell_type": "code",
   "execution_count": 110,
   "id": "69a55d71-3c5e-40b1-bd17-d4eb3c1a9e89",
   "metadata": {},
   "outputs": [
    {
     "name": "stdout",
     "output_type": "stream",
     "text": [
      "The Top 3 ranks are:\n",
      " Rank1    95\n",
      "Rank2    92\n",
      "Rank3    89\n",
      "dtype: int64\n"
     ]
    }
   ],
   "source": [
    "print(\"The Top 3 ranks are:\\n\", marks.loc[['Rank1','Rank2','Rank3']])"
   ]
  },
  {
   "cell_type": "code",
   "execution_count": 113,
   "id": "df7cd427-2430-48b4-8898-a4c420f440be",
   "metadata": {},
   "outputs": [
    {
     "name": "stdout",
     "output_type": "stream",
     "text": [
      "Mark of 3rd Rank is: 89\n"
     ]
    }
   ],
   "source": [
    "print(\"Mark of 3rd Rank is:\",marks.iloc[2])"
   ]
  },
  {
   "cell_type": "code",
   "execution_count": 115,
   "id": "20e34008-6970-4e16-ba6e-10f2563facdd",
   "metadata": {},
   "outputs": [
    {
     "name": "stdout",
     "output_type": "stream",
     "text": [
      "Marks greater than 90 are:\n",
      " Rank1    95\n",
      "Rank2    92\n",
      "dtype: int64\n"
     ]
    }
   ],
   "source": [
    "print(\"Marks greater than 90 are:\\n\",marks[marks>90])"
   ]
  },
  {
   "cell_type": "code",
   "execution_count": 116,
   "id": "f09f6e61-7b8d-445e-8305-244b1ff189bd",
   "metadata": {},
   "outputs": [
    {
     "name": "stdout",
     "output_type": "stream",
     "text": [
      "Updated marks is:\n",
      " Rank1    100\n",
      "Rank2     92\n",
      "Rank3     89\n",
      "Rank4     85\n",
      "Rank5     80\n",
      "dtype: int64\n"
     ]
    }
   ],
   "source": [
    "marks['Rank1']=100 #Manipulating the Series\n",
    "print(\"Updated marks is:\\n\",marks)"
   ]
  },
  {
   "cell_type": "code",
   "execution_count": 117,
   "id": "fd9d3761-7d59-40e0-b79e-3e619431de65",
   "metadata": {},
   "outputs": [
    {
     "name": "stdout",
     "output_type": "stream",
     "text": [
      "The Marks after dropping is:\n",
      " Rank1    100\n",
      "Rank2     92\n",
      "Rank3     89\n",
      "Rank4     85\n",
      "dtype: int64\n"
     ]
    }
   ],
   "source": [
    "marks=marks.drop('Rank5')\n",
    "print(\"The Marks after dropping is:\\n\",marks)"
   ]
  },
  {
   "cell_type": "code",
   "execution_count": 118,
   "id": "26851e84-f2dd-4e86-817d-40c7c1949063",
   "metadata": {},
   "outputs": [
    {
     "name": "stdout",
     "output_type": "stream",
     "text": [
      "The CGPA is:\n",
      " Rank1    10.0\n",
      "Rank2     9.2\n",
      "Rank3     8.9\n",
      "Rank4     8.5\n",
      "dtype: float64\n"
     ]
    }
   ],
   "source": [
    "cgpa=marks/10\n",
    "print(\"The CGPA is:\\n\",cgpa)"
   ]
  },
  {
   "cell_type": "code",
   "execution_count": 157,
   "id": "162c01e8-1523-402c-85ae-da4f32d5dfce",
   "metadata": {},
   "outputs": [],
   "source": [
    "a={\"Transaction\":[101, 102, 103, 104, 105, 106, 107, 108, 109, 110],\"ProductCategory\":['Electronics', 'Clothing', 'Electronics', 'Furniture',\n",
    "'Clothing', 'Electronics', 'Furniture', 'Clothing', 'Furniture', 'Electronics'],\"Region\":['North', 'South', 'North', 'East', 'West', 'North', 'East', 'West',\n",
    "'South', 'North'],\"Amount\":[200, 150, 300, 450, 200, 250, 300, 180, 350, 400]}"
   ]
  },
  {
   "cell_type": "code",
   "execution_count": 158,
   "id": "dbeea00c-b50c-446b-bf8d-d82302fae00e",
   "metadata": {},
   "outputs": [
    {
     "name": "stdout",
     "output_type": "stream",
     "text": [
      "   Transaction ProductCategory Region  Amount\n",
      "0          101     Electronics  North     200\n",
      "1          102        Clothing  South     150\n",
      "2          103     Electronics  North     300\n",
      "3          104       Furniture   East     450\n",
      "4          105        Clothing   West     200\n",
      "5          106     Electronics  North     250\n",
      "6          107       Furniture   East     300\n",
      "7          108        Clothing   West     180\n",
      "8          109       Furniture  South     350\n",
      "9          110     Electronics  North     400\n"
     ]
    }
   ],
   "source": [
    "df=pd.DataFrame(a) #Pandas DataFrame\n",
    "print(df)"
   ]
  },
  {
   "cell_type": "code",
   "execution_count": 159,
   "id": "fd869831-301a-4d70-8176-c329bb38f477",
   "metadata": {},
   "outputs": [
    {
     "name": "stdout",
     "output_type": "stream",
     "text": [
      "First five rows of dataframe is:\n",
      "    Transaction ProductCategory Region  Amount\n",
      "0          101     Electronics  North     200\n",
      "1          102        Clothing  South     150\n",
      "2          103     Electronics  North     300\n",
      "3          104       Furniture   East     450\n",
      "4          105        Clothing   West     200\n"
     ]
    }
   ],
   "source": [
    "print(\"First five rows of dataframe is:\\n\", df.head()) #Data Exploration"
   ]
  },
  {
   "cell_type": "code",
   "execution_count": 160,
   "id": "42b917f9-6418-4dea-bf7a-94609a1cce12",
   "metadata": {},
   "outputs": [
    {
     "name": "stdout",
     "output_type": "stream",
     "text": [
      "Last five rows of dataframe is:\n",
      "    Transaction ProductCategory Region  Amount\n",
      "5          106     Electronics  North     250\n",
      "6          107       Furniture   East     300\n",
      "7          108        Clothing   West     180\n",
      "8          109       Furniture  South     350\n",
      "9          110     Electronics  North     400\n"
     ]
    }
   ],
   "source": [
    "print(\"Last five rows of dataframe is:\\n\", df.tail())"
   ]
  },
  {
   "cell_type": "code",
   "execution_count": 161,
   "id": "951cc577-cc0c-4432-8400-1884427b5256",
   "metadata": {},
   "outputs": [
    {
     "name": "stdout",
     "output_type": "stream",
     "text": [
      "Shape of the Dataframe: (10, 4)\n"
     ]
    }
   ],
   "source": [
    "print(\"Shape of the Dataframe:\", df.shape)"
   ]
  },
  {
   "cell_type": "code",
   "execution_count": 162,
   "id": "4fe8e6f5-d1fc-4ed9-a450-748aff47c4aa",
   "metadata": {},
   "outputs": [
    {
     "name": "stdout",
     "output_type": "stream",
     "text": [
      "The Columns are: Index(['Transaction', 'ProductCategory', 'Region', 'Amount'], dtype='object')\n"
     ]
    }
   ],
   "source": [
    "print(\"The Columns are:\", df.columns)"
   ]
  },
  {
   "cell_type": "code",
   "execution_count": 163,
   "id": "220c811a-07cb-4f9a-be03-f2f0d03c5983",
   "metadata": {},
   "outputs": [
    {
     "name": "stdout",
     "output_type": "stream",
     "text": [
      "Data type of the dataframe is:\n",
      " Transaction         int64\n",
      "ProductCategory    object\n",
      "Region             object\n",
      "Amount              int64\n",
      "dtype: object\n"
     ]
    }
   ],
   "source": [
    "print(\"Data type of the dataframe is:\\n\", df.dtypes)"
   ]
  },
  {
   "cell_type": "code",
   "execution_count": 164,
   "id": "2ac50b97-ad0e-49fe-b804-5b461d22f644",
   "metadata": {},
   "outputs": [
    {
     "name": "stdout",
     "output_type": "stream",
     "text": [
      "The ProductCategory and Amount colums data are:\n",
      "   ProductCategory  Amount\n",
      "0     Electronics     200\n",
      "1        Clothing     150\n",
      "2     Electronics     300\n",
      "3       Furniture     450\n",
      "4        Clothing     200\n",
      "5     Electronics     250\n",
      "6       Furniture     300\n",
      "7        Clothing     180\n",
      "8       Furniture     350\n",
      "9     Electronics     400\n"
     ]
    }
   ],
   "source": [
    "print(\"The ProductCategory and Amount colums data are:\\n\",df[['ProductCategory','Amount']])"
   ]
  },
  {
   "cell_type": "code",
   "execution_count": 165,
   "id": "6d86af38-367b-4f89-89c1-040e9fe54a63",
   "metadata": {},
   "outputs": [
    {
     "name": "stdout",
     "output_type": "stream",
     "text": [
      "Last 3 columns using iloc is:\n",
      "    Transaction ProductCategory Region  Amount\n",
      "7          108        Clothing   West     180\n",
      "8          109       Furniture  South     350\n",
      "9          110     Electronics  North     400\n"
     ]
    }
   ],
   "source": [
    "print(\"Last 3 columns using iloc is:\\n\",df.iloc[-3:])"
   ]
  },
  {
   "cell_type": "code",
   "execution_count": 166,
   "id": "cb1a524e-3c6a-4f23-b1fc-2bae36401f34",
   "metadata": {},
   "outputs": [
    {
     "name": "stdout",
     "output_type": "stream",
     "text": [
      "The North region with Amount greater than 200    Transaction ProductCategory Region  Amount\n",
      "2          103     Electronics  North     300\n",
      "5          106     Electronics  North     250\n",
      "9          110     Electronics  North     400\n"
     ]
    }
   ],
   "source": [
    "n_higher=df[(df['Region']==\"North\") & (df['Amount']>200)]\n",
    "print(\"The North region with Amount greater than 200\",n_higher)"
   ]
  },
  {
   "cell_type": "code",
   "execution_count": 167,
   "id": "002fa0bb-46d9-44f5-a38f-789a9fba7328",
   "metadata": {},
   "outputs": [
    {
     "name": "stdout",
     "output_type": "stream",
     "text": [
      "The Product Category Count is:\n",
      " ProductCategory\n",
      "Electronics    4\n",
      "Clothing       3\n",
      "Furniture      3\n",
      "Name: count, dtype: int64\n"
     ]
    }
   ],
   "source": [
    "print(\"The Product Category Count is:\\n\",df['ProductCategory'].value_counts())"
   ]
  },
  {
   "cell_type": "code",
   "execution_count": 168,
   "id": "d781c181-a109-4a59-9d99-12812212a7b6",
   "metadata": {},
   "outputs": [
    {
     "name": "stdout",
     "output_type": "stream",
     "text": [
      "Unique Regions are:\n",
      " ['North' 'South' 'East' 'West']\n"
     ]
    }
   ],
   "source": [
    "print(\"Unique Regions are:\\n\",df['Region'].unique())"
   ]
  },
  {
   "cell_type": "code",
   "execution_count": 169,
   "id": "13a35875-a0dc-4651-8e72-dd63eb86a980",
   "metadata": {},
   "outputs": [
    {
     "name": "stdout",
     "output_type": "stream",
     "text": [
      "Mean of Amount by Region is:\n",
      " Region\n",
      "East     375.0\n",
      "North    287.5\n",
      "South    250.0\n",
      "West     190.0\n",
      "Name: Amount, dtype: float64\n"
     ]
    }
   ],
   "source": [
    "print(\"Mean of Amount by Region is:\\n\",df.groupby('Region')['Amount'].mean())"
   ]
  },
  {
   "cell_type": "code",
   "execution_count": 170,
   "id": "0ff9fea2-63c2-4435-97ae-6f848efa0149",
   "metadata": {},
   "outputs": [
    {
     "name": "stdout",
     "output_type": "stream",
     "text": [
      "The Data frame after the changes in 102 is:    Transaction ProductCategory Region  Amount\n",
      "0          101     Electronics  North     200\n",
      "1          102        Clothing  South     165\n",
      "2          103     Electronics  North     300\n",
      "3          104       Furniture   East     450\n",
      "4          105        Clothing   West     200\n",
      "5          106     Electronics  North     250\n",
      "6          107       Furniture   East     300\n",
      "7          108        Clothing   West     180\n",
      "8          109       Furniture  South     350\n",
      "9          110     Electronics  North     400\n"
     ]
    }
   ],
   "source": [
    "df.loc[df['Transaction']==102,'Amount']=165\n",
    "print(\"The Data frame after the changes in 102 is:\",df)"
   ]
  },
  {
   "cell_type": "code",
   "execution_count": 171,
   "id": "8d306a55-236a-48b1-95c3-9b196bf02d8a",
   "metadata": {},
   "outputs": [
    {
     "name": "stdout",
     "output_type": "stream",
     "text": [
      "The Dataframe after adding discount is:\n",
      "    Transaction ProductCategory Region  Amount  Discount\n",
      "0          101     Electronics  North     200      20.0\n",
      "1          102        Clothing  South     165      16.5\n",
      "2          103     Electronics  North     300      30.0\n",
      "3          104       Furniture   East     450      45.0\n",
      "4          105        Clothing   West     200      20.0\n",
      "5          106     Electronics  North     250      25.0\n",
      "6          107       Furniture   East     300      30.0\n",
      "7          108        Clothing   West     180      18.0\n",
      "8          109       Furniture  South     350      35.0\n",
      "9          110     Electronics  North     400      40.0\n"
     ]
    }
   ],
   "source": [
    "df['Discount']=df['Amount']*0.1\n",
    "print(\"The Dataframe after adding discount is:\\n\",df)"
   ]
  },
  {
   "cell_type": "code",
   "execution_count": 172,
   "id": "da709ebc-90b3-4939-b43b-e196a851cad3",
   "metadata": {},
   "outputs": [
    {
     "name": "stdout",
     "output_type": "stream",
     "text": [
      "The Dataframe after deleting the 109 is:\n",
      "    Transaction ProductCategory Region  Amount  Discount\n",
      "0          101     Electronics  North     200      20.0\n",
      "1          102        Clothing  South     165      16.5\n",
      "2          103     Electronics  North     300      30.0\n",
      "3          104       Furniture   East     450      45.0\n",
      "4          105        Clothing   West     200      20.0\n",
      "5          106     Electronics  North     250      25.0\n",
      "6          107       Furniture   East     300      30.0\n",
      "7          108        Clothing   West     180      18.0\n",
      "9          110     Electronics  North     400      40.0\n"
     ]
    }
   ],
   "source": [
    "df=df.drop(8)\n",
    "print(\"The Dataframe after deleting the 109 is:\\n\",df)"
   ]
  },
  {
   "cell_type": "code",
   "execution_count": 173,
   "id": "46d77ef6-4e19-4a9a-8639-1836395670e7",
   "metadata": {},
   "outputs": [
    {
     "name": "stdout",
     "output_type": "stream",
     "text": [
      "The Dataframe After deleting Discount column is:\n",
      "    Transaction ProductCategory Region  Amount\n",
      "0          101     Electronics  North     200\n",
      "1          102        Clothing  South     165\n",
      "2          103     Electronics  North     300\n",
      "3          104       Furniture   East     450\n",
      "4          105        Clothing   West     200\n",
      "5          106     Electronics  North     250\n",
      "6          107       Furniture   East     300\n",
      "7          108        Clothing   West     180\n",
      "9          110     Electronics  North     400\n"
     ]
    }
   ],
   "source": [
    "df=df.drop(columns=['Discount'])\n",
    "print(\"The Dataframe After deleting Discount column is:\\n\",df)"
   ]
  },
  {
   "cell_type": "code",
   "execution_count": null,
   "id": "f0a58e7a-0fd2-4bf0-aec1-98594f5ab117",
   "metadata": {},
   "outputs": [],
   "source": []
  }
 ],
 "metadata": {
  "kernelspec": {
   "display_name": "Python 3 (ipykernel)",
   "language": "python",
   "name": "python3"
  },
  "language_info": {
   "codemirror_mode": {
    "name": "ipython",
    "version": 3
   },
   "file_extension": ".py",
   "mimetype": "text/x-python",
   "name": "python",
   "nbconvert_exporter": "python",
   "pygments_lexer": "ipython3",
   "version": "3.13.0"
  }
 },
 "nbformat": 4,
 "nbformat_minor": 5
}
