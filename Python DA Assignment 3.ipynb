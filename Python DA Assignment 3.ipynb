{
 "cells": [
  {
   "cell_type": "code",
   "execution_count": 1,
   "id": "cbc3dfa6-807e-4837-87e1-938df1a607b5",
   "metadata": {},
   "outputs": [],
   "source": [
    "import requests\n",
    "import pandas as pd\n",
    "import numpy as np\n",
    "import matplotlib.pyplot as plt\n",
    "import seaborn as sns\n",
    "from bs4 import BeautifulSoup\n",
    "from urllib.parse import urljoin"
   ]
  },
  {
   "cell_type": "code",
   "execution_count": 2,
   "id": "2b2d10c3-22ce-441d-b48a-5a7ca6fdf951",
   "metadata": {},
   "outputs": [],
   "source": [
    "main_url=\"https://books.toscrape.com\""
   ]
  },
  {
   "cell_type": "code",
   "execution_count": 16,
   "id": "5261a6f0-7a05-4115-8b1b-53290cfdf159",
   "metadata": {},
   "outputs": [],
   "source": [
    "def book_scrape():\n",
    "    final_data=[]\n",
    "    page_url=main_url\n",
    "    while True:\n",
    "        total_content=requests.get(page_url)\n",
    "        data=BeautifulSoup(total_content.text,'html.parser')\n",
    "        all_books=data.find_all('article',class_='product_pod')\n",
    "        for i in all_books:\n",
    "            title=i.h3.a['title']\n",
    "            price=i.find('p',class_='price_color').text\n",
    "            stock=i.find('p',class_='instock availability').text.strip()\n",
    "            rating=i.find('p',class_='star-rating')['class'][1]\n",
    "            book_href=i.h3.a['href'] #For Entering the Detailed Page to get the genre\n",
    "            book_url=urljoin(main_url,book_href)\n",
    "            book_detail=requests.get(book_url)\n",
    "            book_data=BeautifulSoup(book_detail.text,'html.parser')\n",
    "            try:\n",
    "                genre = book_data.select('ul.breadcrumb li a')[2].text.strip()\n",
    "            except IndexError:\n",
    "                genre = 'Unknown'\n",
    "            #genre=book_data.select('ul.breadcrumb li a')[2].text.strip()\n",
    "            final_data.append({'Title': title,'Price': price,'Rating': rating,'Stock': stock,'Genre': genre})\n",
    "        next_button = data.find('li', class_='next')\n",
    "        if next_button:\n",
    "            next_href = next_button.a['href']\n",
    "            page_url = urljoin(main_url,next_href)\n",
    "        else:\n",
    "            break\n",
    "    return final_data"
   ]
  },
  {
   "cell_type": "code",
   "execution_count": 18,
   "id": "d8c37970-384d-40fc-badb-921a53d0ae16",
   "metadata": {},
   "outputs": [
    {
     "name": "stdout",
     "output_type": "stream",
     "text": [
      "your data is saved to Final_books.csv\n",
      "                                   Title    Price Rating     Stock  \\\n",
      "0                   A Light in the Attic  Â£51.77  Three  In stock   \n",
      "1                     Tipping the Velvet  Â£53.74    One  In stock   \n",
      "2                             Soumission  Â£50.10    One  In stock   \n",
      "3                          Sharp Objects  Â£47.82   Four  In stock   \n",
      "4  Sapiens: A Brief History of Humankind  Â£54.23   Five  In stock   \n",
      "\n",
      "                Genre  \n",
      "0              Poetry  \n",
      "1  Historical Fiction  \n",
      "2             Fiction  \n",
      "3             Mystery  \n",
      "4             History  \n"
     ]
    }
   ],
   "source": [
    "last_data=book_scrape()\n",
    "df=pd.DataFrame(last_data)\n",
    "df.to_csv('Final_books.csv',index=False)\n",
    "print(\"your data is saved to Final_books.csv\")\n",
    "print(df.head())"
   ]
  },
  {
   "cell_type": "code",
   "execution_count": 1,
   "id": "0c4df324-c296-4cac-aefd-83010e7b3106",
   "metadata": {},
   "outputs": [],
   "source": [
    "#Pyspark"
   ]
  },
  {
   "cell_type": "code",
   "execution_count": 3,
   "id": "ec5bed5b-ec5a-4e6a-a3ac-3fa3ea5d17d8",
   "metadata": {},
   "outputs": [
    {
     "name": "stdout",
     "output_type": "stream",
     "text": [
      "Defaulting to user installation because normal site-packages is not writeable\n",
      "Requirement already satisfied: pyspark in c:\\users\\midhu\\appdata\\roaming\\python\\python313\\site-packages (4.0.0)\n",
      "Requirement already satisfied: py4j==0.10.9.9 in c:\\users\\midhu\\appdata\\roaming\\python\\python313\\site-packages (from pyspark) (0.10.9.9)\n",
      "Note: you may need to restart the kernel to use updated packages.\n"
     ]
    }
   ],
   "source": [
    "pip install pyspark"
   ]
  },
  {
   "cell_type": "code",
   "execution_count": 1,
   "id": "99e0e867-bf5f-4c33-acda-4413d18fcc63",
   "metadata": {},
   "outputs": [],
   "source": [
    "from pyspark.sql import SparkSession"
   ]
  },
  {
   "cell_type": "code",
   "execution_count": 3,
   "id": "8cc1a349-e048-4b44-bd47-dbbb8985b064",
   "metadata": {},
   "outputs": [],
   "source": [
    "session= SparkSession.builder.appName(\"sample\").getOrCreate()"
   ]
  },
  {
   "cell_type": "code",
   "execution_count": 21,
   "id": "c54d27fb-2a69-45e1-b317-12f90baf4e85",
   "metadata": {},
   "outputs": [],
   "source": [
    "sa=session.read.csv(r\"C:\\Users\\midhu\\Downloads\\dm_office_sales (1).csv\",header=True, inferSchema=True)"
   ]
  },
  {
   "cell_type": "code",
   "execution_count": 22,
   "id": "ac841d8c-c7d2-40f1-afc1-53823ced1bda",
   "metadata": {},
   "outputs": [
    {
     "name": "stdout",
     "output_type": "stream",
     "text": [
      "root\n",
      " |-- division: string (nullable = true)\n",
      " |-- level of education: string (nullable = true)\n",
      " |-- training level: integer (nullable = true)\n",
      " |-- work experience: integer (nullable = true)\n",
      " |-- salary: integer (nullable = true)\n",
      " |-- sales: integer (nullable = true)\n",
      "\n"
     ]
    }
   ],
   "source": [
    "sa.printSchema()"
   ]
  },
  {
   "cell_type": "code",
   "execution_count": 23,
   "id": "274be023-7848-4314-bf5e-532c5a6b8724",
   "metadata": {},
   "outputs": [
    {
     "name": "stdout",
     "output_type": "stream",
     "text": [
      "+---------------+------------------+--------------+---------------+------+------+\n",
      "|       division|level of education|training level|work experience|salary| sales|\n",
      "+---------------+------------------+--------------+---------------+------+------+\n",
      "|       printers|      some college|             2|              6| 91684|372302|\n",
      "|       printers|associate's degree|             2|             10|119679|495660|\n",
      "|    peripherals|       high school|             0|              9| 82045|320453|\n",
      "|office supplies|associate's degree|             2|              5| 92949|377148|\n",
      "|office supplies|       high school|             1|              5| 71280|312802|\n",
      "+---------------+------------------+--------------+---------------+------+------+\n",
      "only showing top 5 rows\n"
     ]
    }
   ],
   "source": [
    "sa.show(5)"
   ]
  },
  {
   "cell_type": "code",
   "execution_count": 24,
   "id": "40146799-4a1f-42ba-a09b-06253ca45c0f",
   "metadata": {},
   "outputs": [
    {
     "name": "stdout",
     "output_type": "stream",
     "text": [
      "+-------+-----------------+------------------+------------------+----------------+------------------+------------------+\n",
      "|summary|         division|level of education|    training level| work experience|            salary|             sales|\n",
      "+-------+-----------------+------------------+------------------+----------------+------------------+------------------+\n",
      "|  count|             1000|              1000|              1000|            1000|              1000|              1000|\n",
      "|   mean|             NULL|              NULL|             1.262|           6.142|         90264.207|        339833.846|\n",
      "| stddev|             NULL|              NULL|0.9253173575656154|2.94796989918936|17398.617174354134|108555.77331583285|\n",
      "|    min|computer hardware|associate's degree|                 0|               0|             41660|             53067|\n",
      "|    max|         printers|      some college|                 3|              16|            159148|            761477|\n",
      "+-------+-----------------+------------------+------------------+----------------+------------------+------------------+\n",
      "\n"
     ]
    }
   ],
   "source": [
    "sa.describe().show()"
   ]
  },
  {
   "cell_type": "code",
   "execution_count": 25,
   "id": "f81c2d20-17e0-43be-976d-9a73f166f8af",
   "metadata": {},
   "outputs": [
    {
     "name": "stdout",
     "output_type": "stream",
     "text": [
      "+-----------------+------------------+--------------+---------------+------+------+\n",
      "|         division|level of education|training level|work experience|salary| sales|\n",
      "+-----------------+------------------+--------------+---------------+------+------+\n",
      "|         printers|      some college|             2|              6| 91684|372302|\n",
      "|         printers|associate's degree|             2|             10|119679|495660|\n",
      "|      peripherals|       high school|             0|              9| 82045|320453|\n",
      "|  office supplies|associate's degree|             2|              5| 92949|377148|\n",
      "|  office supplies|       high school|             1|              5| 71280|312802|\n",
      "|computer hardware|      some college|             0|             10|102401|366451|\n",
      "|      peripherals|associate's degree|             0|              5| 77548|230899|\n",
      "|  office supplies|      some college|             0|              6| 81966|265915|\n",
      "|         printers|associate's degree|             3|              2| 72844|308443|\n",
      "|computer hardware|associate's degree|             1|              5| 96731|326667|\n",
      "|         printers|associate's degree|             2|              3| 73508|251044|\n",
      "|      peripherals|associate's degree|             2|              6| 97841|382063|\n",
      "|  office supplies|      some college|             0|              6| 82719|245873|\n",
      "|  office supplies|      some college|             3|              4| 98070|410695|\n",
      "|         printers|      some college|             3|              6| 94604|448108|\n",
      "|         printers|associate's degree|             2|              7|105864|427161|\n",
      "|         printers|      some college|             1|              7| 79103|306233|\n",
      "|computer software|      some college|             1|              0| 70834|156285|\n",
      "|  office supplies|      some college|             2|              9|109279|463564|\n",
      "|  office supplies|      some college|             0|              6| 77126|265805|\n",
      "+-----------------+------------------+--------------+---------------+------+------+\n",
      "only showing top 20 rows\n"
     ]
    }
   ],
   "source": [
    "sa.filter(sa[\"salary\"] >= 20000).show()"
   ]
  },
  {
   "cell_type": "code",
   "execution_count": null,
   "id": "7c0164c7-759e-4dfd-a4f8-f1c6a0c5153c",
   "metadata": {},
   "outputs": [],
   "source": []
  }
 ],
 "metadata": {
  "kernelspec": {
   "display_name": "Python 3 (ipykernel)",
   "language": "python",
   "name": "python3"
  },
  "language_info": {
   "codemirror_mode": {
    "name": "ipython",
    "version": 3
   },
   "file_extension": ".py",
   "mimetype": "text/x-python",
   "name": "python",
   "nbconvert_exporter": "python",
   "pygments_lexer": "ipython3",
   "version": "3.13.5"
  }
 },
 "nbformat": 4,
 "nbformat_minor": 5
}
